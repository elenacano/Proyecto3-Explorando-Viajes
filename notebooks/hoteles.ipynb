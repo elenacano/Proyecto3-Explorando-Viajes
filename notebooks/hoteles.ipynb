{
 "cells": [
  {
   "cell_type": "markdown",
   "metadata": {},
   "source": [
    "## HOTELES EN PARÍS Y ROMA"
   ]
  },
  {
   "cell_type": "code",
   "execution_count": 65,
   "metadata": {},
   "outputs": [
    {
     "data": {
      "text/plain": [
       "True"
      ]
     },
     "execution_count": 65,
     "metadata": {},
     "output_type": "execute_result"
    }
   ],
   "source": [
    "import dotenv\n",
    "import json\n",
    "import os\n",
    "import pandas as pd\n",
    "import numpy as np\n",
    "import requests\n",
    "\n",
    "dotenv.load_dotenv()"
   ]
  },
  {
   "cell_type": "code",
   "execution_count": 13,
   "metadata": {},
   "outputs": [],
   "source": [
    "def get_coordenadas(ciudades):    \n",
    "    url = \"https://booking-com15.p.rapidapi.com/api/v1/meta/locationToLatLong\"\n",
    "    api_key = os.getenv(\"api_key\")\n",
    "    dic_coordenadas_ciudades={}\n",
    "\n",
    "    for ciudad in ciudades:\n",
    "        coord={}\n",
    "        querystring = {\"query\":ciudad}\n",
    "\n",
    "        headers = {\n",
    "            \"x-rapidapi-key\": api_key,\n",
    "            \"x-rapidapi-host\": \"booking-com15.p.rapidapi.com\"\n",
    "        }\n",
    "\n",
    "        response = requests.get(url, headers=headers, params=querystring)\n",
    "        print(response.status_code)\n",
    "        res = response.json()\n",
    "        latitud = res[\"data\"][0][\"geometry\"][\"location\"][\"lat\"]\n",
    "        longitud = res[\"data\"][0][\"geometry\"][\"location\"][\"lng\"]\n",
    "        coord[\"latitud\"]=latitud\n",
    "        coord[\"longitud\"]=longitud\n",
    "        dic_coordenadas_ciudades[ciudad]=coord\n",
    "        \n",
    "    return dic_coordenadas_ciudades"
   ]
  },
  {
   "cell_type": "code",
   "execution_count": 15,
   "metadata": {},
   "outputs": [
    {
     "name": "stdout",
     "output_type": "stream",
     "text": [
      "200\n",
      "200\n"
     ]
    },
    {
     "data": {
      "text/plain": [
       "{'rome': {'latitud': 41.8967068, 'longitud': 12.4822025},\n",
       " 'paris': {'latitud': 48.8575475, 'longitud': 2.3513765}}"
      ]
     },
     "execution_count": 15,
     "metadata": {},
     "output_type": "execute_result"
    }
   ],
   "source": [
    "ciudades = [\"rome\", \"paris\"]\n",
    "dic_coordenadas = get_coordenadas(ciudades)\n",
    "dic_coordenadas"
   ]
  },
  {
   "cell_type": "code",
   "execution_count": 20,
   "metadata": {},
   "outputs": [],
   "source": [
    "def llamada_api_hoteles(ciudades, dic_coordenadas):\n",
    "\n",
    "\turl = \"https://booking-com15.p.rapidapi.com/api/v1/hotels/searchHotelsByCoordinates\"\n",
    "\tapi_key = os.getenv(\"api_key\")\n",
    "\n",
    "\tfor ciudad in ciudades:\n",
    "\t\tquerystring = {\"latitude\":dic_coordenadas[ciudad][\"latitud\"],\n",
    "\t\t\t\t\t\"longitude\":dic_coordenadas[ciudad][\"longitud\"],\n",
    "\t\t\t\t\t\"arrival_date\":\"2024-12-06\",\n",
    "\t\t\t\t\t\"departure_date\":\"2024-12-08\",\n",
    "\t\t\t\t\t\"radius\":\"10\",\n",
    "\t\t\t\t\t\"adults\":\"1\",\n",
    "\t\t\t\t\t\"children_age\":\"0\",\n",
    "\t\t\t\t\t\"room_qty\":\"1\",\n",
    "\t\t\t\t\t\"units\":\"metric\",\n",
    "\t\t\t\t\t\"page_number\":\"1\",\n",
    "\t\t\t\t\t\"temperature_unit\":\"c\",\n",
    "\t\t\t\t\t\"languagecode\":\"es\",\n",
    "\t\t\t\t\t\"currency_code\":\"EUR\"}\n",
    "\n",
    "\t\theaders = {\n",
    "\t\t\t\"x-rapidapi-key\": api_key,\n",
    "\t\t\t\"x-rapidapi-host\": \"booking-com15.p.rapidapi.com\"\n",
    "\t\t}\n",
    "\n",
    "\t\tresponse = requests.get(url, headers=headers, params=querystring)\n",
    "\t\tprint(response.status_code)\n",
    "\t\tres=response.json()\n",
    "\t\twith open(f\"../datos/hoteles_{ciudad}.json\", \"w\") as archivo_json:\n",
    "\t\t\tjson.dump(res, archivo_json, indent=4)"
   ]
  },
  {
   "cell_type": "code",
   "execution_count": 21,
   "metadata": {},
   "outputs": [
    {
     "name": "stdout",
     "output_type": "stream",
     "text": [
      "200\n",
      "200\n"
     ]
    }
   ],
   "source": [
    "ciudades = [\"rome\", \"paris\"]\n",
    "llamada_api_hoteles(ciudades, dic_coordenadas)"
   ]
  },
  {
   "cell_type": "code",
   "execution_count": 56,
   "metadata": {},
   "outputs": [],
   "source": [
    "from geopy.geocoders import Nominatim\n",
    "def get_direccion(latitud, longitud):\n",
    "    geolocator = Nominatim(user_agent=\"hoteles\")\n",
    "    location = geolocator.reverse(\"\"+str(latitud)+\", \"+str(longitud))\n",
    "    return location.address"
   ]
  },
  {
   "cell_type": "code",
   "execution_count": 70,
   "metadata": {},
   "outputs": [],
   "source": [
    "def limieza_json_hoteles(ciudades):\n",
    "\n",
    "    for ciudad in ciudades:\n",
    "        with open(f\"../datos/hoteles_{ciudad}.json\", \"r\") as archivo_json:\n",
    "            res = json.load(archivo_json)\n",
    "\n",
    "        hoteles=res[\"data\"][\"result\"]\n",
    "\n",
    "        dic_hoteles={\n",
    "            \"hotel\":[],\n",
    "            \"puntuacion\":[],\n",
    "            \"precio_total\":[],\n",
    "            \"direccion\":[],\n",
    "            \"cancelacion_gratuita\":[],\n",
    "            \"hora_checkout\":[]\n",
    "        }\n",
    "\n",
    "        for hotel in hoteles:\n",
    "            dic_hoteles[\"hotel\"].append(hotel[\"hotel_name\"])\n",
    "            dic_hoteles[\"puntuacion\"].append(hotel[\"review_score\"])\n",
    "            dic_hoteles[\"precio_total\"].append(hotel[\"composite_price_breakdown\"][\"all_inclusive_amount\"][\"value\"])\n",
    "            \n",
    "            dic_hoteles[\"cancelacion_gratuita\"].append(hotel[\"is_free_cancellable\"])\n",
    "            dic_hoteles[\"hora_checkout\"].append(hotel[\"checkout\"][\"until\"])\n",
    "            latitud = hotel[\"latitude\"]\n",
    "            longitud = hotel[\"longitude\"]\n",
    "            dic_hoteles[\"direccion\"].append(get_direccion(latitud, longitud))\n",
    "\n",
    "\n",
    "\n",
    "        df = pd.DataFrame(dic_hoteles)\n",
    "        df[\"cancelacion_gratuita\"] = df[\"cancelacion_gratuita\"].map({0:\"NO\",1:\"SI\"})\n",
    "        df.to_csv(f\"../datos/df_hoteles_{ciudad}.csv\")\n",
    "\n",
    "            \n"
   ]
  },
  {
   "cell_type": "code",
   "execution_count": 71,
   "metadata": {},
   "outputs": [
    {
     "name": "stdout",
     "output_type": "stream",
     "text": [
      "Hotel Ercoli House\n",
      "B&B Sol Romae\n",
      "Internazionale Domus\n",
      "Hotel Eliseo\n",
      "Luxury Domus AmaDora\n",
      "Domus Ponte Milvio\n",
      "Internouno\n",
      "Courtyard Rome Suite\n",
      "Magic Double\n",
      "MC Guest House\n",
      "Raffaela's Suite & Rooms Vatican Guest House\n",
      "Hotel Valentino Palace\n",
      "Hotel Impero\n",
      "Il Giardino Dell'Argano Rosso\n",
      "Augusta Lucilla Palace\n",
      "Vatican Style\n",
      "Hotel Aniene\n",
      "Piazza Farnese Luxury Suites\n",
      "Relais Rione Ponte\n",
      "Suite art Pigneto\n",
      "Maison Mère\n",
      "Le 12 Hôtel\n",
      "Hotel Litteraire Marcel Ayme, BW Premier Collection\n",
      "Le 123 Sébastopol - Astotel\n",
      "Les Rives de Notre-Dame\n",
      "Majestic Hotel Spa - Champs Elysées\n",
      "Le jardin du stade by UTA HOUSE\n",
      "Hôtel Des Grands Voyageurs\n",
      "Hôtel Eiffel Turenne\n",
      "GuestReady - Bel Apt à 5 minutes de Chinatown\n",
      "Residhome Paris Gare de Lyon - Jacqueline de Romilly\n",
      "Apollon Montparnasse\n",
      "Aparthotel Adagio Access La Défense - Léonard De Vinci\n",
      "My Maison In Paris - Louvre\n",
      "Hotel Etoile Maillot\n",
      "Fauchon l'Hôtel Paris\n",
      "Royal Madeleine Hotel & Spa\n",
      "2 pièces lumineux aux portes de Paris\n",
      "Hotel Splendide Royal Paris - Relais & Châteaux\n",
      "Hôtel Langlois\n"
     ]
    }
   ],
   "source": [
    "ciudades = [\"rome\", \"paris\"]\n",
    "limieza_json_hoteles(ciudades)"
   ]
  }
 ],
 "metadata": {
  "kernelspec": {
   "display_name": "Python 3",
   "language": "python",
   "name": "python3"
  },
  "language_info": {
   "codemirror_mode": {
    "name": "ipython",
    "version": 3
   },
   "file_extension": ".py",
   "mimetype": "text/x-python",
   "name": "python",
   "nbconvert_exporter": "python",
   "pygments_lexer": "ipython3",
   "version": "3.11.9"
  }
 },
 "nbformat": 4,
 "nbformat_minor": 2
}
