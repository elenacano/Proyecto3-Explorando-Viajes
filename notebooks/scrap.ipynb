{
 "cells": [
  {
   "cell_type": "markdown",
   "metadata": {},
   "source": [
    "## Scrapeo de página de actividades para Roma y París"
   ]
  },
  {
   "cell_type": "code",
   "execution_count": 20,
   "metadata": {},
   "outputs": [],
   "source": [
    "from bs4 import BeautifulSoup\n",
    "import requests\n",
    "import numpy as np\n",
    "from tqdm import tqdm\n",
    "from time import sleep\n",
    "import math\n",
    "\n",
    "# Tratamiento de datos\n",
    "# -----------------------------------------------------------------------\n",
    "import pandas as pd\n",
    "\n",
    "\n",
    "# Importar librerías para automatización de navegadores web con Selenium\n",
    "# -----------------------------------------------------------------------\n",
    "from selenium import webdriver  # Selenium es una herramienta para automatizar la interacción con navegadores web.\n",
    "from webdriver_manager.chrome import ChromeDriverManager  # ChromeDriverManager gestiona la instalación del controlador de Chrome.\n",
    "from selenium.webdriver.common.keys import Keys  # Keys es útil para simular eventos de teclado en Selenium.\n",
    "from selenium.webdriver.support.ui import Select  # Select se utiliza para interactuar con elementos <select> en páginas web.\n",
    "from selenium.webdriver.support.ui import WebDriverWait\n",
    "from selenium.webdriver.support import expected_conditions as EC\n",
    "from selenium.common.exceptions import NoSuchElementException # Excepciones comunes de selenium que nos podemos encontrar "
   ]
  },
  {
   "cell_type": "code",
   "execution_count": 3,
   "metadata": {},
   "outputs": [],
   "source": [
    "url_roma = \"https://www.guias.travel/tour/?s=roma\""
   ]
  },
  {
   "cell_type": "code",
   "execution_count": 32,
   "metadata": {},
   "outputs": [
    {
     "name": "stdout",
     "output_type": "stream",
     "text": [
      "3\n"
     ]
    }
   ],
   "source": [
    "driver = webdriver.Chrome()\n",
    "url_roma = \"https://www.guias.travel/tour/?s=roma\"\n",
    "url_paris = \"https://www.guias.travel/tour/?s=paris\"\n",
    "driver.get(url_paris)\n",
    "driver.maximize_window()\n",
    "sleep(1)\n",
    "\n",
    "# Veamos cuantas actividades hay\n",
    "num_actividades = driver.find_element(\"css selector\", \"#num_tours\").text\n",
    "num_actividades = int(num_actividades)\n",
    "\n",
    "# Como hay que ir cargando el contenido vamos a calcular cuantas veces hay que dar al botón sabiendo que carga 20 actividades cada vez\n",
    "num_clicks=math.ceil(num_actividades/20)\n",
    "print(num_clicks)\n",
    "\n",
    "for i in range(num_clicks-1):\n",
    "    driver.execute_script(\"window.scrollTo(0, 15000);\")\n",
    "    sleep(1)\n",
    "    driver.find_element(\"css selector\", \"#more_tours > span\").click()\n",
    "    sleep(1)\n",
    "\n",
    "html_table_page = driver.page_source\n",
    "driver.quit()"
   ]
  },
  {
   "cell_type": "code",
   "execution_count": 80,
   "metadata": {},
   "outputs": [
    {
     "name": "stdout",
     "output_type": "stream",
     "text": [
      "57\n",
      "57\n",
      "57\n"
     ]
    }
   ],
   "source": [
    "sopa = BeautifulSoup(html_table_page, \"html.parser\")\n",
    "\n",
    "\n",
    "# Sacamos las títulos\n",
    "lista_titulos = sopa.findAll(\"h2\")\n",
    "titulos = [titulo.getText() for titulo in lista_titulos]\n",
    "print(len(titulos))\n",
    "\n",
    "# Sacamos las categorías\n",
    "lista_categorias = sopa.findAll(\"h3\", {\"class\":\"category desktop\"})\n",
    "categorias = [categoria.getText() for categoria in lista_categorias]\n",
    "print(len(categorias))\n",
    "\n",
    "# Sacamos los ratings\n",
    "lista_ratings =[]\n",
    "tour_list_desc = sopa.findAll(\"div\", {\"class\":\"tour_list_desc\"})\n",
    "for tour in tour_list_desc:\n",
    "    lista_opiniones_aux=tour.select(\"div.tour_list_desc div.rating span\")\n",
    "    if len(lista_opiniones_aux)==0:\n",
    "        lista_ratings.append(np.nan)\n",
    "    else:\n",
    "        lista_ratings.append(lista_opiniones_aux[0].text)\n",
    "\n",
    "print(len(lista_ratings))\n"
   ]
  },
  {
   "cell_type": "code",
   "execution_count": null,
   "metadata": {},
   "outputs": [],
   "source": []
  },
  {
   "cell_type": "code",
   "execution_count": null,
   "metadata": {},
   "outputs": [],
   "source": []
  }
 ],
 "metadata": {
  "kernelspec": {
   "display_name": "Python 3",
   "language": "python",
   "name": "python3"
  },
  "language_info": {
   "codemirror_mode": {
    "name": "ipython",
    "version": 3
   },
   "file_extension": ".py",
   "mimetype": "text/x-python",
   "name": "python",
   "nbconvert_exporter": "python",
   "pygments_lexer": "ipython3",
   "version": "3.11.9"
  }
 },
 "nbformat": 4,
 "nbformat_minor": 2
}
